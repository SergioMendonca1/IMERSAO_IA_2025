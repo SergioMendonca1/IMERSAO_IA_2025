{
  "cells": [
    {
      "cell_type": "markdown",
      "metadata": {
        "id": "view-in-github",
        "colab_type": "text"
      },
      "source": [
        "<a href=\"https://colab.research.google.com/github/SergioMendonca1/IMERSAO_IA_2025/blob/main/Sr_Doutor.ipynb\" target=\"_parent\"><img src=\"https://colab.research.google.com/assets/colab-badge.svg\" alt=\"Open In Colab\"/></a>"
      ]
    },
    {
      "cell_type": "code",
      "execution_count": 1,
      "metadata": {
        "colab": {
          "base_uri": "https://localhost:8080/"
        },
        "id": "oQOu1Rnc5g-r",
        "outputId": "37eedd51-c259-4119-e285-ee59bf3fdf42"
      },
      "outputs": [
        {
          "output_type": "stream",
          "name": "stdout",
          "text": [
            "Instalando bibliotecas (google-generativeai e google-adk)...\n",
            "\u001b[2K   \u001b[90m━━━━━━━━━━━━━━━━━━━━━━━━━━━━━━━━━━━━━━━━\u001b[0m \u001b[32m1.2/1.2 MB\u001b[0m \u001b[31m15.7 MB/s\u001b[0m eta \u001b[36m0:00:00\u001b[0m\n",
            "\u001b[2K   \u001b[90m━━━━━━━━━━━━━━━━━━━━━━━━━━━━━━━━━━━━━━━━\u001b[0m \u001b[32m232.1/232.1 kB\u001b[0m \u001b[31m14.2 MB/s\u001b[0m eta \u001b[36m0:00:00\u001b[0m\n",
            "\u001b[2K   \u001b[90m━━━━━━━━━━━━━━━━━━━━━━━━━━━━━━━━━━━━━━━━\u001b[0m \u001b[32m95.2/95.2 kB\u001b[0m \u001b[31m6.0 MB/s\u001b[0m eta \u001b[36m0:00:00\u001b[0m\n",
            "\u001b[2K   \u001b[90m━━━━━━━━━━━━━━━━━━━━━━━━━━━━━━━━━━━━━━━━\u001b[0m \u001b[32m217.1/217.1 kB\u001b[0m \u001b[31m11.4 MB/s\u001b[0m eta \u001b[36m0:00:00\u001b[0m\n",
            "\u001b[2K   \u001b[90m━━━━━━━━━━━━━━━━━━━━━━━━━━━━━━━━━━━━━━━━\u001b[0m \u001b[32m334.1/334.1 kB\u001b[0m \u001b[31m19.2 MB/s\u001b[0m eta \u001b[36m0:00:00\u001b[0m\n",
            "\u001b[2K   \u001b[90m━━━━━━━━━━━━━━━━━━━━━━━━━━━━━━━━━━━━━━━━\u001b[0m \u001b[32m125.1/125.1 kB\u001b[0m \u001b[31m7.6 MB/s\u001b[0m eta \u001b[36m0:00:00\u001b[0m\n",
            "\u001b[2K   \u001b[90m━━━━━━━━━━━━━━━━━━━━━━━━━━━━━━━━━━━━━━━━\u001b[0m \u001b[32m65.8/65.8 kB\u001b[0m \u001b[31m3.3 MB/s\u001b[0m eta \u001b[36m0:00:00\u001b[0m\n",
            "\u001b[2K   \u001b[90m━━━━━━━━━━━━━━━━━━━━━━━━━━━━━━━━━━━━━━━━\u001b[0m \u001b[32m119.0/119.0 kB\u001b[0m \u001b[31m7.2 MB/s\u001b[0m eta \u001b[36m0:00:00\u001b[0m\n",
            "\u001b[2K   \u001b[90m━━━━━━━━━━━━━━━━━━━━━━━━━━━━━━━━━━━━━━━━\u001b[0m \u001b[32m194.9/194.9 kB\u001b[0m \u001b[31m10.8 MB/s\u001b[0m eta \u001b[36m0:00:00\u001b[0m\n",
            "\u001b[2K   \u001b[90m━━━━━━━━━━━━━━━━━━━━━━━━━━━━━━━━━━━━━━━━\u001b[0m \u001b[32m62.5/62.5 kB\u001b[0m \u001b[31m3.7 MB/s\u001b[0m eta \u001b[36m0:00:00\u001b[0m\n",
            "\u001b[2K   \u001b[90m━━━━━━━━━━━━━━━━━━━━━━━━━━━━━━━━━━━━━━━━\u001b[0m \u001b[32m103.3/103.3 kB\u001b[0m \u001b[31m6.1 MB/s\u001b[0m eta \u001b[36m0:00:00\u001b[0m\n",
            "\u001b[2K   \u001b[90m━━━━━━━━━━━━━━━━━━━━━━━━━━━━━━━━━━━━━━━━\u001b[0m \u001b[32m44.4/44.4 kB\u001b[0m \u001b[31m2.1 MB/s\u001b[0m eta \u001b[36m0:00:00\u001b[0m\n",
            "\u001b[2K   \u001b[90m━━━━━━━━━━━━━━━━━━━━━━━━━━━━━━━━━━━━━━━━\u001b[0m \u001b[32m72.0/72.0 kB\u001b[0m \u001b[31m4.5 MB/s\u001b[0m eta \u001b[36m0:00:00\u001b[0m\n",
            "\u001b[?25hBibliotecas instaladas.\n"
          ]
        }
      ],
      "source": [
        "# 1. INSTALAÇÃO DAS BIBLIOTECAS\n",
        "print(\"Instalando bibliotecas (google-generativeai e google-adk)...\")\n",
        "%pip install -q google-generativeai\n",
        "%pip install -q google-adk\n",
        "print(\"Bibliotecas instaladas.\")\n"
      ]
    },
    {
      "cell_type": "code",
      "execution_count": 2,
      "metadata": {
        "colab": {
          "base_uri": "https://localhost:8080/"
        },
        "id": "UVftOtvW5wNf",
        "outputId": "d5f81692-84d4-4e38-9db9-bddeedee4269"
      },
      "outputs": [
        {
          "output_type": "stream",
          "name": "stdout",
          "text": [
            "\n",
            "Configurando API e importando módulos...\n",
            "API Key carregada de userdata e DEFINIDA COMO VARIÁVEL DE AMBIENTE ('GOOGLE_API_KEY').\n",
            "Configuração global genai.configure() chamada com sucesso.\n",
            "Confirmação: Variável de ambiente GOOGLE_API_KEY está presente e não vazia.\n",
            "Modelo a ser usado pelo agente: gemini-1.5-flash-latest\n"
          ]
        }
      ],
      "source": [
        "# 2. IMPORTS E CONFIGURAÇÃO DA API KEY\n",
        "print(\"\\nConfigurando API e importando módulos...\")\n",
        "import os\n",
        "from google.colab import userdata\n",
        "import google.generativeai as genai\n",
        "from google.adk.agents import Agent\n",
        "from google.adk.runners import Runner\n",
        "from google.adk.sessions import InMemorySessionService\n",
        "from google.genai import types as genai_types\n",
        "from datetime import date\n",
        "import textwrap\n",
        "from IPython.display import display, Markdown # Certifique-se que está importado\n",
        "import warnings\n",
        "import time # Mantendo para o time.sleep()\n",
        "\n",
        "warnings.filterwarnings(\"ignore\")\n",
        "\n",
        "# Configura a API Key do Google\n",
        "GOOGLE_API_KEY_FROM_USERDATA = None\n",
        "try:\n",
        "    GOOGLE_API_KEY_FROM_USERDATA = userdata.get('GOOGLE_API_KEY')\n",
        "except Exception as e:\n",
        "    print(f\"Aviso: Não foi possível obter GOOGLE_API_KEY de userdata: {e}\")\n",
        "\n",
        "if GOOGLE_API_KEY_FROM_USERDATA:\n",
        "    os.environ['GOOGLE_API_KEY'] = GOOGLE_API_KEY_FROM_USERDATA\n",
        "    print(\"API Key carregada de userdata e DEFINIDA COMO VARIÁVEL DE AMBIENTE ('GOOGLE_API_KEY').\")\n",
        "    try:\n",
        "        genai.configure(api_key=GOOGLE_API_KEY_FROM_USERDATA)\n",
        "        print(\"Configuração global genai.configure() chamada com sucesso.\")\n",
        "    except Exception as e:\n",
        "        print(f\"Aviso: Erro ao chamar genai.configure(): {e}\")\n",
        "else:\n",
        "    print(\"ERRO CRÍTICO: GOOGLE_API_KEY não encontrada nas secrets do Colab (userdata).\")\n",
        "    raise ValueError(\"API Key não configurada. Verifique as secrets do Colab.\")\n",
        "\n",
        "if 'GOOGLE_API_KEY' in os.environ and os.environ['GOOGLE_API_KEY']:\n",
        "    print(\"Confirmação: Variável de ambiente GOOGLE_API_KEY está presente e não vazia.\")\n",
        "else:\n",
        "    print(\"ALERTA: Variável de ambiente GOOGLE_API_KEY NÃO está presente ou está vazia após a tentativa de configuração!\")\n",
        "\n",
        "MODEL_ID = \"gemini-1.5-flash-latest\"\n",
        "print(f\"Modelo a ser usado pelo agente: {MODEL_ID}\")\n"
      ]
    },
    {
      "cell_type": "code",
      "execution_count": 6,
      "metadata": {
        "colab": {
          "base_uri": "https://localhost:8080/"
        },
        "id": "q2otvutw55Jn",
        "outputId": "ec470164-1abb-48fe-b5d8-67c553faa8a3"
      },
      "outputs": [
        {
          "output_type": "stream",
          "name": "stdout",
          "text": [
            "Funções auxiliares definidas.\n"
          ]
        }
      ],
      "source": [
        "# 3. FUNÇÕES AUXILIARES\n",
        "def to_markdown(text): # Função original para Markdown\n",
        "    lines = [line.strip() for line in text.split('\\n')]\n",
        "    processed_lines = []\n",
        "    for line in lines:\n",
        "        if line:\n",
        "            if line.startswith('• '): line = '* ' + line[2:]\n",
        "            elif line.startswith('- '): line = '* ' + line[2:]\n",
        "            if not line.startswith('> ') and not line.startswith('* ') and not line.startswith('  * '):\n",
        "                 processed_lines.append('> ' + line)\n",
        "            else:\n",
        "                 processed_lines.append(line)\n",
        "        else:\n",
        "            processed_lines.append(line)\n",
        "    text_final = \"\\n\".join(processed_lines).strip()\n",
        "    return Markdown(text_final)\n",
        "\n",
        "print(\"Funções auxiliares definidas.\")\n"
      ]
    },
    {
      "cell_type": "code",
      "execution_count": 3,
      "metadata": {
        "colab": {
          "base_uri": "https://localhost:8080/"
        },
        "id": "cuv4xHZ06Aq6",
        "outputId": "1dfe01dc-3746-4ad5-dda9-794461858d0d"
      },
      "outputs": [
        {
          "output_type": "stream",
          "name": "stdout",
          "text": [
            "\n",
            "Definindo o agente de medicamentos...\n",
            "Sr. Doutor 'AnalisadorDeMedicamentosAjustado' definido com sucesso!\n"
          ]
        }
      ],
      "source": [
        "\n",
        "# 4. DEFINIÇÃO DO AGENTE DE MEDICAMENTOS\n",
        "print(\"\\nDefinindo o agente de medicamentos...\")\n",
        "agente_medicamentos = None\n",
        "instrucoes_agente_ajustadas = (\n",
        "    \"Você é um assistente farmacêutico virtual interativo, preciso e prestativo. \"\n",
        "    \"Siga este fluxo CUIDADOSAMENTE:\\n\"\n",
        "    \"1. O usuário fornecerá uma lista de nomes de medicamentos.\\n\"\n",
        "    \"2. Sua PRIMEIRA resposta DEVE SER apenas para confirmar os medicamentos que você identificou. Liste-os. Ex: 'Entendi que você mencionou: Novalgina, AAS. Correto? (sim/não)'.\\n\"\n",
        "    \"3. AGUARDE a confirmação ('sim' ou 'não').\\n\"\n",
        "    \"4. Se 'sim': Na sua PRÓXIMA resposta, PERGUNTE se ele deseja ver os detalhes. Ex: 'Ótimo! Gostaria de ver os detalhes da(s) bula(s) para [lista de medicamentos]? (sim/não)'.\\n\"\n",
        "    \"5. Se 'não' na etapa 3: Peça para ele fornecer a lista correta e reinicie da etapa 2.\\n\"\n",
        "    \"6. AGUARDE a resposta para os detalhes (etapa 4).\\n\"\n",
        "    \"7. Se 'sim' para ver detalhes: Na sua PRÓXIMA resposta, para CADA medicamento confirmado, forneça as seguintes informações, separando claramente cada item com um título em negrito:\\n\"\n",
        "    \"   - **Nome do Medicamento**\\n\"\n",
        "    \"   - **Principal Indicação:** (Para que serve primariamente)\\n\"\n",
        "    \"   - **Contraindicações Principais:** (Quem NÃO DEVE usar ou em que situações. Se não houver contraindicações absolutas muito fortes, mencione precauções importantes como se fossem contraindicações relativas.)\\n\"\n",
        "    \"   - **Efeitos Colaterais Comuns:** (Liste 2-4 dos mais frequentes e menos graves)\\n\"\n",
        "    \"   - **Advertências Importantes/Efeitos Graves (se houver):** (Qualquer aviso crucial, como interações, reações adversas sérias, ou precauções críticas)\\n\"\n",
        "    \"   - **Nome Genérico (se aplicável e conhecido):**\\n\"\n",
        "    \"   Use uma linha em branco entre cada medicamento detalhado. Após detalhar TODOS os medicamentos, vá para a etapa 8.\\n\"\n",
        "    \"8. Se 'não' para ver detalhes (na etapa 6), OU APÓS fornecer todos os detalhes (da etapa 7): Na sua PRÓXIMA resposta, PERGUNTE ao usuário: 'Entendido. Para que eu possa te ajudar a ter uma ideia de onde comprar e uma estimativa de preço, por favor, me informe seu CEP no formato XXXXX-XXX ou sua cidade/bairro.'\\n\"\n",
        "    \"9. AGUARDE o usuário informar o CEP ou cidade/bairro.\\n\"\n",
        "    \"10. Após o usuário informar a localização: Na sua PRÓXIMA resposta, faça o seguinte para CADA medicamento:\\n\"\n",
        "    \"    a. Diga: 'Para encontrar [Nome do Medicamento] próximo a [Localização informada], sugiro que você:\\n\"\n",
        "    \"       - Utilize aplicativos de mapas (como Google Maps, Waze) e pesquise por \\\"farmácias\\\" ou \\\"drogarias\\\" para ver as opções mais próximas da sua localização e seus endereços.\\n\"\n",
        "    \"       - Verifique os sites de grandes redes de farmácias (ex: Drogasil, Droga Raia, Pague Menos, Drogaria São Paulo), pois muitas oferecem busca por CEP para encontrar lojas ou delivery.'\\n\"\n",
        "    \"    b. Sobre o preço, diga: 'Quanto ao preço de [Nome do Medicamento], ele pode variar bastante dependendo da farmácia, marca (se genérico ou de referência) e promoções. Uma busca online por \\\"preço [Nome do Medicamento]\\\" ou a consulta direta nos sites e aplicativos das farmácias pode te dar uma estimativa mais precisa. [Mencione se é um medicamento geralmente acessível ou se tende a ser mais caro, se tiver essa noção geral, MAS SEMPRE COM RESSALVA DE VARIAÇÃO]. Não se esqueça de pesquisar e comparar preços!'\\n\"\n",
        "    \"    c. Adicione a ressalva: 'Lembre-se que estas são apenas sugestões. A disponibilidade e os preços exatos devem ser verificados diretamente com as farmácias.'\\n\"\n",
        "    \"11. Após fornecer essas informações para TODOS os medicamentos, pergunte: 'Posso ajudar com mais alguma coisa? (sim/não)'.\\n\"\n",
        "    \"12. Se o usuário responder 'não' à pergunta da etapa 11, responda: 'Ok. Até mais! (Para finalizar completamente, digite sair)'. Se responder 'sim', pergunte 'Como posso ajudar?'.\\n\"\n",
        "    \"13. Siga EXATAMENTE estas etapas. AGUARDE a entrada do usuário entre cada resposta sua. Responda em português brasileiro.\"\n",
        ")\n",
        "\n",
        "try:\n",
        "    agente_medicamentos = Agent(\n",
        "        name=\"AnalisadorDeMedicamentosAjustado\",\n",
        "        instruction=instrucoes_agente_ajustadas,\n",
        "        model=MODEL_ID,\n",
        "    )\n",
        "    print(\"Sr. Doutor 'AnalisadorDeMedicamentosAjustado' definido com sucesso!\")\n",
        "except Exception as e:\n",
        "    print(f\"ERRO ao definir o agente: {e}\")\n"
      ]
    },
    {
      "cell_type": "code",
      "execution_count": 7,
      "metadata": {
        "colab": {
          "base_uri": "https://localhost:8080/",
          "height": 1000
        },
        "id": "739oDuEJ6Hrp",
        "outputId": "72e90692-7e7f-4c71-c044-0b0f804f9351"
      },
      "outputs": [
        {
          "output_type": "stream",
          "name": "stdout",
          "text": [
            "\n",
            "--- Consulta Interativa de Medicamentos ---\n",
            "Você pode digitar 'sair' a qualquer momento para terminar a conversa.\n",
            "Sessão iniciada: session_final_meds_20250517_209aa84d\n",
            "\n",
            "Olá! Sou o Sr. Doutor, seu assistente de medicamentos. Quais medicamentos você gostaria de consultar hoje? (Ex: Novalgina, AAS)\n",
            "Você: novalgina\n",
            "\n",
            "Sr. Doutor pensando...\n",
            "\n",
            "Sr. Doutor:\n"
          ]
        },
        {
          "output_type": "display_data",
          "data": {
            "text/plain": [
              "<IPython.core.display.Markdown object>"
            ],
            "text/markdown": "> Entendi que você mencionou: Novalgina. Correto? (sim/não)"
          },
          "metadata": {}
        },
        {
          "output_type": "stream",
          "name": "stdout",
          "text": [
            "Você: sim\n",
            "\n",
            "Sr. Doutor pensando...\n",
            "\n",
            "Sr. Doutor:\n"
          ]
        },
        {
          "output_type": "display_data",
          "data": {
            "text/plain": [
              "<IPython.core.display.Markdown object>"
            ],
            "text/markdown": "> Ótimo! Gostaria de ver os detalhes da(s) bula(s) para Novalgina? (sim/não)"
          },
          "metadata": {}
        },
        {
          "output_type": "stream",
          "name": "stdout",
          "text": [
            "Você: sim\n",
            "\n",
            "Sr. Doutor pensando...\n",
            "\n",
            "Sr. Doutor:\n"
          ]
        },
        {
          "output_type": "display_data",
          "data": {
            "text/plain": [
              "<IPython.core.display.Markdown object>"
            ],
            "text/markdown": "> **Nome do Medicamento:** Novalgina\n\n> **Principal Indicação:** Analgesia (alívio da dor) e anti-inflamatória (redução da inflamação).  É frequentemente utilizada para dores de cabeça, dores musculares, cólicas menstruais e dores pós-cirúrgicas.\n\n> **Contraindicações Principais:**  Hipersensibilidade (alergia) a qualquer componente da fórmula, incluindo a dipirona.  Pacientes com deficiência de glicose-6-fosfato desidrogenase (G6PD) devem evitar o uso devido ao risco de anemia hemolítica.  Gestantes e lactantes devem usar com cautela e sob orientação médica.  Crianças abaixo de 3 meses de idade (o uso em crianças mais novas requer acompanhamento médico rigoroso).\n\n> **Efeitos Colaterais Comuns:** Náuseas, vômitos, mal-estar geral, reações alérgicas leves (como erupções cutâneas).\n\n\n> **Advertências Importantes/Efeitos Graves (se houver):** Reações alérgicas graves (anafilaxia), agranulocitose (diminuição drástica dos glóbulos brancos), que pode ser fatal.  O uso prolongado e em doses elevadas deve ser monitorado por um médico. Interação com outros medicamentos deve ser informada ao médico.  A automedicação prolongada pode ser prejudicial à saúde.\n\n> **Nome Genérico (se aplicável e conhecido):** Dipirona\n\n\n> ---\n\n> Entendido. Para que eu possa te ajudar a ter uma ideia de onde comprar e uma estimativa de preço, por favor, me informe seu CEP no formato XXXXX-XXX ou sua cidade/bairro."
          },
          "metadata": {}
        },
        {
          "output_type": "stream",
          "name": "stdout",
          "text": [
            "Você: 04616-005\n",
            "\n",
            "Sr. Doutor pensando...\n",
            "\n",
            "Sr. Doutor:\n"
          ]
        },
        {
          "output_type": "display_data",
          "data": {
            "text/plain": [
              "<IPython.core.display.Markdown object>"
            ],
            "text/markdown": "> Para encontrar Novalgina próximo a 04616-005, sugiro que você:\n* Utilize aplicativos de mapas (como Google Maps, Waze) e pesquise por \"farmácias\" ou \"drogarias\" para ver as opções mais próximas da sua localização e seus endereços.\n* Verifique os sites de grandes redes de farmácias (ex: Drogasil, Droga Raia, Pague Menos, Drogaria São Paulo), pois muitas oferecem busca por CEP para encontrar lojas ou delivery.\n\n> Quanto ao preço de Novalgina, ele pode variar bastante dependendo da farmácia, marca (se genérico ou de referência) e promoções. Uma busca online por \"preço Novalgina\" ou a consulta direta nos sites e aplicativos das farmácias pode te dar uma estimativa mais precisa.  A Novalgina é um medicamento geralmente acessível, mas o preço pode variar. Não se esqueça de pesquisar e comparar preços!\n\n> Lembre-se que estas são apenas sugestões. A disponibilidade e os preços exatos devem ser verificados diretamente com as farmácias.\n\n> Posso ajudar com mais alguma coisa? (sim/não)"
          },
          "metadata": {}
        },
        {
          "output_type": "stream",
          "name": "stdout",
          "text": [
            "Você: não\n",
            "\n",
            "Sr. Doutor pensando...\n",
            "\n",
            "Sr. Doutor:\n"
          ]
        },
        {
          "output_type": "display_data",
          "data": {
            "text/plain": [
              "<IPython.core.display.Markdown object>"
            ],
            "text/markdown": "> Ok. Até mais! (Para finalizar completamente, digite sair)"
          },
          "metadata": {}
        },
        {
          "output_type": "stream",
          "name": "stdout",
          "text": [
            "Você: sair\n",
            "Sr. Doutor: Encerrando a conversa. Até logo!\n"
          ]
        }
      ],
      "source": [
        "# 5. INTERAÇÃO COM O USUÁRIO\n",
        "if agente_medicamentos:\n",
        "    print(\"\\n--- Consulta Interativa de Medicamentos ---\")\n",
        "    print(\"Você pode digitar 'sair' a qualquer momento para terminar a conversa.\")\n",
        "\n",
        "    session_service = InMemorySessionService()\n",
        "    user_id = \"user_final_meds\"\n",
        "    current_session_id = f\"session_final_meds_{date.today().strftime('%Y%m%d')}_{os.urandom(4).hex()}\"\n",
        "    session = session_service.create_session(app_name=agente_medicamentos.name, user_id=user_id, session_id=current_session_id)\n",
        "    runner = Runner(agent=agente_medicamentos, app_name=agente_medicamentos.name, session_service=session_service)\n",
        "    print(f\"Sessão iniciada: {current_session_id}\")\n",
        "\n",
        "    primeira_mensagem_usuario = True\n",
        "    while True:\n",
        "        if primeira_mensagem_usuario:\n",
        "            print(\"\\nOlá! Sou o Sr. Doutor, seu assistente de medicamentos. Quais medicamentos você gostaria de consultar hoje? (Ex: Novalgina, AAS)\")\n",
        "            user_input = input(\"Você: \").strip()\n",
        "            if not user_input:\n",
        "                print(\"Sr. Doutor: Por favor, informe os nomes dos medicamentos para começar.\")\n",
        "                continue\n",
        "            primeira_mensagem_usuario = False\n",
        "        else:\n",
        "\n",
        "            time.sleep(0.2)\n",
        "            user_input = input(\"Você: \").strip()\n",
        "\n",
        "        if user_input.lower() == 'sair':\n",
        "            print(\"Sr. Doutor: Encerrando a conversa. Até logo!\")\n",
        "            break\n",
        "        if not user_input:\n",
        "            print(\"Sr. Doutor: Por favor, digite sua resposta ou 'sair' para terminar.\")\n",
        "            continue\n",
        "\n",
        "        content = genai_types.Content(role=\"user\", parts=[genai_types.Part(text=user_input)])\n",
        "\n",
        "        print(\"\\nSr. Doutor pensando...\")\n",
        "        agent_response_text = \"\"\n",
        "\n",
        "        try:\n",
        "\n",
        "            for event in runner.run(user_id=user_id, session_id=current_session_id, new_message=content):\n",
        "\n",
        "                if hasattr(event, 'content') and event.content and hasattr(event.content, 'parts'):\n",
        "                    for part in event.content.parts:\n",
        "                        if hasattr(part, 'text') and part.text:\n",
        "                            agent_response_text += part.text\n",
        "                            if not agent_response_text.endswith(\"\\n\"):\n",
        "                                agent_response_text += \"\\n\"\n",
        "\n",
        "            if agent_response_text:\n",
        "                print(\"\\nSr. Doutor:\")\n",
        "                display(to_markdown(agent_response_text.strip())) # Voltando a usar display(to_markdown(...))\n",
        "            else:\n",
        "                print(f\"\\nSr. Doutor: Não recebi uma resposta textual processável desta vez.\")\n",
        "\n",
        "        except Exception as e:\n",
        "            print(f\"\\nOcorreu um erro CRÍTICO durante a execução do agente: {e}\")\n",
        "            break\n",
        "else:\n",
        "    print(\"\\nNão foi possível iniciar a consulta de medicamentos porque o agente não foi definido corretamente.\")\n",
        "\n",
        "\n"
      ]
    }
  ],
  "metadata": {
    "colab": {
      "provenance": [],
      "authorship_tag": "ABX9TyOV87a7iHxEIe3NlCGLkO8k",
      "include_colab_link": true
    },
    "kernelspec": {
      "display_name": "Python 3",
      "name": "python3"
    },
    "language_info": {
      "name": "python"
    }
  },
  "nbformat": 4,
  "nbformat_minor": 0
}